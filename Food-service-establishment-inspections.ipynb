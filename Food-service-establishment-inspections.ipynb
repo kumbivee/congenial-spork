{
 "cells": [
  {
   "cell_type": "markdown",
   "metadata": {},
   "source": [
    "## Dataset 2 - Food Service Establishment-Inspections \n",
    "## Student ID : x20165749 \n",
    "## Name : Veeresh Shivabasappa Kumbi \n",
    "## MSc in Data Analytics"
   ]
  },
  {
   "cell_type": "code",
   "execution_count": 7,
   "metadata": {},
   "outputs": [],
   "source": [
    "#Importing Libraries\n",
    "import numpy as np\n",
    "import pandas as pd\n",
    "import seaborn as sb\n",
    "import matplotlib.pyplot as plt\n",
    "import seaborn as sns\n",
    "from sklearn.linear_model import LogisticRegression\n",
    "from sklearn.linear_model import LinearRegression\n",
    "from sklearn.model_selection import train_test_split\n",
    "from sklearn.metrics import classification_report\n",
    "from sklearn.metrics import confusion_matrix\n",
    "from sklearn.metrics import r2_score\n"
   ]
  },
  {
   "cell_type": "code",
   "execution_count": 8,
   "metadata": {},
   "outputs": [
    {
     "data": {
      "text/html": [
       "<div>\n",
       "<style scoped>\n",
       "    .dataframe tbody tr th:only-of-type {\n",
       "        vertical-align: middle;\n",
       "    }\n",
       "\n",
       "    .dataframe tbody tr th {\n",
       "        vertical-align: top;\n",
       "    }\n",
       "\n",
       "    .dataframe thead th {\n",
       "        text-align: right;\n",
       "    }\n",
       "</style>\n",
       "<table border=\"1\" class=\"dataframe\">\n",
       "  <thead>\n",
       "    <tr style=\"text-align: right;\">\n",
       "      <th></th>\n",
       "      <th>ADDRESS</th>\n",
       "      <th>OPERATION NAME</th>\n",
       "      <th>DATE OF INSPECTION</th>\n",
       "      <th>VIOLATION ITEM</th>\n",
       "      <th>VIOLATION DESCRIPTION</th>\n",
       "      <th>CRITICAL VIOLATION</th>\n",
       "      <th>TOTAL # CRITICAL VIOLATIONS</th>\n",
       "      <th>TOTAL # CRIT.  NOT CORRECTED</th>\n",
       "      <th>TOTAL # NONCRITICAL VIOLATIONS</th>\n",
       "      <th>LOCAL HEALTH DEPARTMENT</th>\n",
       "      <th>...</th>\n",
       "      <th>PERMITTED  (D/B/A)</th>\n",
       "      <th>PERMITTED  CORP. NAME</th>\n",
       "      <th>PERM. OPERATOR LAST NAME</th>\n",
       "      <th>PERM. OPERATOR FIRST NAME</th>\n",
       "      <th>NYS HEALTH OPERATION ID</th>\n",
       "      <th>INSPECTION TYPE</th>\n",
       "      <th>INSPECTION COMMENTS</th>\n",
       "      <th>FS FACILITY STATE</th>\n",
       "      <th>LATITUDE</th>\n",
       "      <th>LONGITUDE</th>\n",
       "    </tr>\n",
       "  </thead>\n",
       "  <tbody>\n",
       "    <tr>\n",
       "      <th>0</th>\n",
       "      <td>373 CANADA STREET,  LAKE GEORGE</td>\n",
       "      <td>JOHN BARLEYCORN RESTAURANT &amp; PUB/Dormant</td>\n",
       "      <td>08/31/2012</td>\n",
       "      <td>1B</td>\n",
       "      <td>Water/ice: unsafe, unapproved sources, cross c...</td>\n",
       "      <td>Critical Violation</td>\n",
       "      <td>1.0</td>\n",
       "      <td>0.0</td>\n",
       "      <td>14.0</td>\n",
       "      <td>Glens Falls District Office</td>\n",
       "      <td>...</td>\n",
       "      <td>NaN</td>\n",
       "      <td>FIRESIDE GRILL, LLC.</td>\n",
       "      <td>DWYER</td>\n",
       "      <td>JOHN</td>\n",
       "      <td>797701</td>\n",
       "      <td>Inspection</td>\n",
       "      <td>NaN</td>\n",
       "      <td>NY</td>\n",
       "      <td>43.427506</td>\n",
       "      <td>-73.711944</td>\n",
       "    </tr>\n",
       "    <tr>\n",
       "      <th>1</th>\n",
       "      <td>2639 ROUTE 9,  MALTA</td>\n",
       "      <td>PIZZA NOOK/Inactive</td>\n",
       "      <td>10/14/2014</td>\n",
       "      <td>1B</td>\n",
       "      <td>Water/ice: unsafe, unapproved sources, cross c...</td>\n",
       "      <td>Critical Violation</td>\n",
       "      <td>4.0</td>\n",
       "      <td>0.0</td>\n",
       "      <td>9.0</td>\n",
       "      <td>Glens Falls District Office</td>\n",
       "      <td>...</td>\n",
       "      <td>NaN</td>\n",
       "      <td>NaN</td>\n",
       "      <td>ISMAIL</td>\n",
       "      <td>ASHFAQUE</td>\n",
       "      <td>687752</td>\n",
       "      <td>Inspection</td>\n",
       "      <td>NaN</td>\n",
       "      <td>NY</td>\n",
       "      <td>42.983758</td>\n",
       "      <td>-73.786669</td>\n",
       "    </tr>\n",
       "    <tr>\n",
       "      <th>2</th>\n",
       "      <td>25 WILTON ROAD,  GREENFIELD CENTER</td>\n",
       "      <td>SCNS - GREENFIELD COMM. CENTER/Inactive</td>\n",
       "      <td>12/09/2015</td>\n",
       "      <td>1B</td>\n",
       "      <td>Water/ice: unsafe, unapproved sources, cross c...</td>\n",
       "      <td>Critical Violation</td>\n",
       "      <td>1.0</td>\n",
       "      <td>0.0</td>\n",
       "      <td>0.0</td>\n",
       "      <td>Glens Falls District Office</td>\n",
       "      <td>...</td>\n",
       "      <td>NaN</td>\n",
       "      <td>PRESTIGE SERVICES, INC.</td>\n",
       "      <td>WILLIAMS</td>\n",
       "      <td>CHRIS</td>\n",
       "      <td>333621</td>\n",
       "      <td>Inspection</td>\n",
       "      <td>11 meals, no eat-ins for 12/9/15. \\nPlease con...</td>\n",
       "      <td>NY</td>\n",
       "      <td>43.128250</td>\n",
       "      <td>-73.845040</td>\n",
       "    </tr>\n",
       "    <tr>\n",
       "      <th>3</th>\n",
       "      <td>2839 ROUTE 9,  BALLSTON SPA</td>\n",
       "      <td>ALMOST SARATOGA/Inactive</td>\n",
       "      <td>11/30/2016</td>\n",
       "      <td>1B</td>\n",
       "      <td>Water/ice: unsafe, unapproved sources, cross c...</td>\n",
       "      <td>Critical Violation</td>\n",
       "      <td>3.0</td>\n",
       "      <td>0.0</td>\n",
       "      <td>26.0</td>\n",
       "      <td>Glens Falls District Office</td>\n",
       "      <td>...</td>\n",
       "      <td>NaN</td>\n",
       "      <td>2839 LCM CORP.</td>\n",
       "      <td>BOYARK</td>\n",
       "      <td>CHRISTOPHER</td>\n",
       "      <td>912014</td>\n",
       "      <td>Inspection</td>\n",
       "      <td>All violations must be corrected and are subje...</td>\n",
       "      <td>NY</td>\n",
       "      <td>43.012214</td>\n",
       "      <td>-73.789782</td>\n",
       "    </tr>\n",
       "    <tr>\n",
       "      <th>4</th>\n",
       "      <td>663 ROUTE 28,  RICHFIELD SPRINGS</td>\n",
       "      <td>Mister Shake/Dormant</td>\n",
       "      <td>04/15/2009</td>\n",
       "      <td>1B</td>\n",
       "      <td>Water/ice: unsafe, unapproved sources, cross c...</td>\n",
       "      <td>Critical Violation</td>\n",
       "      <td>1.0</td>\n",
       "      <td>0.0</td>\n",
       "      <td>0.0</td>\n",
       "      <td>Herkimer District Office</td>\n",
       "      <td>...</td>\n",
       "      <td>NaN</td>\n",
       "      <td>NaN</td>\n",
       "      <td>HILTS</td>\n",
       "      <td>RICHARD</td>\n",
       "      <td>338915</td>\n",
       "      <td>Inspection</td>\n",
       "      <td>NaN</td>\n",
       "      <td>NY</td>\n",
       "      <td>42.857709</td>\n",
       "      <td>-74.998152</td>\n",
       "    </tr>\n",
       "  </tbody>\n",
       "</table>\n",
       "<p>5 rows × 30 columns</p>\n",
       "</div>"
      ],
      "text/plain": [
       "                              ADDRESS  \\\n",
       "0     373 CANADA STREET,  LAKE GEORGE   \n",
       "1                2639 ROUTE 9,  MALTA   \n",
       "2  25 WILTON ROAD,  GREENFIELD CENTER   \n",
       "3         2839 ROUTE 9,  BALLSTON SPA   \n",
       "4    663 ROUTE 28,  RICHFIELD SPRINGS   \n",
       "\n",
       "                             OPERATION NAME DATE OF INSPECTION VIOLATION ITEM  \\\n",
       "0  JOHN BARLEYCORN RESTAURANT & PUB/Dormant         08/31/2012             1B   \n",
       "1                       PIZZA NOOK/Inactive         10/14/2014             1B   \n",
       "2   SCNS - GREENFIELD COMM. CENTER/Inactive         12/09/2015             1B   \n",
       "3                  ALMOST SARATOGA/Inactive         11/30/2016             1B   \n",
       "4                      Mister Shake/Dormant         04/15/2009             1B   \n",
       "\n",
       "                               VIOLATION DESCRIPTION  CRITICAL VIOLATION  \\\n",
       "0  Water/ice: unsafe, unapproved sources, cross c...  Critical Violation   \n",
       "1  Water/ice: unsafe, unapproved sources, cross c...  Critical Violation   \n",
       "2  Water/ice: unsafe, unapproved sources, cross c...  Critical Violation   \n",
       "3  Water/ice: unsafe, unapproved sources, cross c...  Critical Violation   \n",
       "4  Water/ice: unsafe, unapproved sources, cross c...  Critical Violation   \n",
       "\n",
       "   TOTAL # CRITICAL VIOLATIONS  TOTAL # CRIT.  NOT CORRECTED   \\\n",
       "0                          1.0                            0.0   \n",
       "1                          4.0                            0.0   \n",
       "2                          1.0                            0.0   \n",
       "3                          3.0                            0.0   \n",
       "4                          1.0                            0.0   \n",
       "\n",
       "   TOTAL # NONCRITICAL VIOLATIONS      LOCAL HEALTH DEPARTMENT  ...  \\\n",
       "0                            14.0  Glens Falls District Office  ...   \n",
       "1                             9.0  Glens Falls District Office  ...   \n",
       "2                             0.0  Glens Falls District Office  ...   \n",
       "3                            26.0  Glens Falls District Office  ...   \n",
       "4                             0.0     Herkimer District Office  ...   \n",
       "\n",
       "  PERMITTED  (D/B/A)    PERMITTED  CORP. NAME PERM. OPERATOR LAST NAME  \\\n",
       "0                NaN     FIRESIDE GRILL, LLC.                    DWYER   \n",
       "1                NaN                      NaN                   ISMAIL   \n",
       "2                NaN  PRESTIGE SERVICES, INC.                 WILLIAMS   \n",
       "3                NaN           2839 LCM CORP.                   BOYARK   \n",
       "4                NaN                      NaN                    HILTS   \n",
       "\n",
       "  PERM. OPERATOR FIRST NAME NYS HEALTH OPERATION ID  INSPECTION TYPE  \\\n",
       "0                      JOHN                  797701       Inspection   \n",
       "1                  ASHFAQUE                  687752       Inspection   \n",
       "2                     CHRIS                  333621       Inspection   \n",
       "3              CHRISTOPHER                   912014       Inspection   \n",
       "4                   RICHARD                  338915       Inspection   \n",
       "\n",
       "                                 INSPECTION COMMENTS FS FACILITY STATE  \\\n",
       "0                                                NaN                NY   \n",
       "1                                                NaN                NY   \n",
       "2  11 meals, no eat-ins for 12/9/15. \\nPlease con...                NY   \n",
       "3  All violations must be corrected and are subje...                NY   \n",
       "4                                                NaN                NY   \n",
       "\n",
       "    LATITUDE  LONGITUDE  \n",
       "0  43.427506 -73.711944  \n",
       "1  42.983758 -73.786669  \n",
       "2  43.128250 -73.845040  \n",
       "3  43.012214 -73.789782  \n",
       "4  42.857709 -74.998152  \n",
       "\n",
       "[5 rows x 30 columns]"
      ]
     },
     "execution_count": 8,
     "metadata": {},
     "output_type": "execute_result"
    }
   ],
   "source": [
    "data = pd.read_csv(\"C:/Users/Shivasheela/Desktop/DMML Project/food-service-establishment-inspections/food-service-establishment-inspections-beginning-2005.csv\")\n",
    "data.head()"
   ]
  },
  {
   "cell_type": "code",
   "execution_count": 9,
   "metadata": {},
   "outputs": [
    {
     "name": "stdout",
     "output_type": "stream",
     "text": [
      "<class 'pandas.core.frame.DataFrame'>\n",
      "RangeIndex: 678271 entries, 0 to 678270\n",
      "Data columns (total 30 columns):\n",
      " #   Column                          Non-Null Count   Dtype  \n",
      "---  ------                          --------------   -----  \n",
      " 0   ADDRESS                         678244 non-null  object \n",
      " 1   OPERATION NAME                  678271 non-null  object \n",
      " 2   DATE OF INSPECTION              678271 non-null  object \n",
      " 3   VIOLATION ITEM                  678271 non-null  object \n",
      " 4   VIOLATION DESCRIPTION           577252 non-null  object \n",
      " 5   CRITICAL VIOLATION              678271 non-null  object \n",
      " 6   TOTAL # CRITICAL VIOLATIONS     644486 non-null  float64\n",
      " 7   TOTAL # CRIT.  NOT CORRECTED    643538 non-null  float64\n",
      " 8   TOTAL # NONCRITICAL VIOLATIONS  644603 non-null  float64\n",
      " 9   LOCAL HEALTH DEPARTMENT         678271 non-null  object \n",
      " 10  COUNTY                          678271 non-null  object \n",
      " 11  FACILITY CODE                   678271 non-null  object \n",
      " 12  FACILITY ADDRESS                665417 non-null  object \n",
      " 13  FACILITY CITY                   676898 non-null  object \n",
      " 14  FACILITY POSTAL ZIPCODE         676875 non-null  object \n",
      " 15  NYSDOH GAZETTEER (1980)         678271 non-null  int64  \n",
      " 16  FACILITY MUNICIPALITY           678271 non-null  object \n",
      " 17  PERMIT EXPIRATION DATE          520344 non-null  object \n",
      " 18  FOOD SERVICE TYPE               678271 non-null  object \n",
      " 19  FOOD SERVICE DESCRIPTION        678271 non-null  object \n",
      " 20  PERMITTED  (D/B/A)              83986 non-null   object \n",
      " 21  PERMITTED  CORP. NAME           473646 non-null  object \n",
      " 22  PERM. OPERATOR LAST NAME        468476 non-null  object \n",
      " 23  PERM. OPERATOR FIRST NAME       474230 non-null  object \n",
      " 24  NYS HEALTH OPERATION ID         678271 non-null  int64  \n",
      " 25  INSPECTION TYPE                 678271 non-null  object \n",
      " 26  INSPECTION COMMENTS             98503 non-null   object \n",
      " 27  FS FACILITY STATE               678271 non-null  object \n",
      " 28  LATITUDE                        442995 non-null  float64\n",
      " 29  LONGITUDE                       442995 non-null  float64\n",
      "dtypes: float64(5), int64(2), object(23)\n",
      "memory usage: 155.2+ MB\n"
     ]
    }
   ],
   "source": [
    "data.info()"
   ]
  },
  {
   "cell_type": "code",
   "execution_count": 10,
   "metadata": {},
   "outputs": [
    {
     "name": "stdout",
     "output_type": "stream",
     "text": [
      "<class 'pandas.core.frame.DataFrame'>\n",
      "RangeIndex: 678271 entries, 0 to 678270\n",
      "Data columns (total 16 columns):\n",
      " #   Column                          Non-Null Count   Dtype  \n",
      "---  ------                          --------------   -----  \n",
      " 0   DATE OF INSPECTION              678271 non-null  object \n",
      " 1   VIOLATION ITEM                  678271 non-null  object \n",
      " 2   VIOLATION DESCRIPTION           577252 non-null  object \n",
      " 3   CRITICAL VIOLATION              678271 non-null  object \n",
      " 4   TOTAL # CRITICAL VIOLATIONS     644486 non-null  float64\n",
      " 5   TOTAL # CRIT.  NOT CORRECTED    643538 non-null  float64\n",
      " 6   TOTAL # NONCRITICAL VIOLATIONS  644603 non-null  float64\n",
      " 7   LOCAL HEALTH DEPARTMENT         678271 non-null  object \n",
      " 8   COUNTY                          678271 non-null  object \n",
      " 9   FOOD SERVICE TYPE               678271 non-null  object \n",
      " 10  FOOD SERVICE DESCRIPTION        678271 non-null  object \n",
      " 11  PERMITTED  (D/B/A)              83986 non-null   object \n",
      " 12  NYS HEALTH OPERATION ID         678271 non-null  int64  \n",
      " 13  INSPECTION TYPE                 678271 non-null  object \n",
      " 14  INSPECTION COMMENTS             98503 non-null   object \n",
      " 15  FS FACILITY STATE               678271 non-null  object \n",
      "dtypes: float64(3), int64(1), object(12)\n",
      "memory usage: 82.8+ MB\n"
     ]
    }
   ],
   "source": [
    "#Dropping all the unnecessary columns\n",
    "food_df=data.drop(['ADDRESS','OPERATION NAME','FACILITY CODE','FACILITY ADDRESS','FACILITY CITY','FACILITY POSTAL ZIPCODE','NYSDOH GAZETTEER (1980)','FACILITY MUNICIPALITY','PERMIT EXPIRATION DATE'\n",
    "                      ,'PERMITTED  CORP. NAME','PERM. OPERATOR LAST NAME','PERM. OPERATOR FIRST NAME','LATITUDE','LONGITUDE'],axis=1) \n",
    "food_df.info()"
   ]
  },
  {
   "cell_type": "code",
   "execution_count": 11,
   "metadata": {},
   "outputs": [
    {
     "data": {
      "text/plain": [
       "967"
      ]
     },
     "execution_count": 11,
     "metadata": {},
     "output_type": "execute_result"
    }
   ],
   "source": [
    "food_df.duplicated().sum()"
   ]
  },
  {
   "cell_type": "code",
   "execution_count": 12,
   "metadata": {},
   "outputs": [
    {
     "data": {
      "text/html": [
       "<div>\n",
       "<style scoped>\n",
       "    .dataframe tbody tr th:only-of-type {\n",
       "        vertical-align: middle;\n",
       "    }\n",
       "\n",
       "    .dataframe tbody tr th {\n",
       "        vertical-align: top;\n",
       "    }\n",
       "\n",
       "    .dataframe thead th {\n",
       "        text-align: right;\n",
       "    }\n",
       "</style>\n",
       "<table border=\"1\" class=\"dataframe\">\n",
       "  <thead>\n",
       "    <tr style=\"text-align: right;\">\n",
       "      <th></th>\n",
       "      <th>DATE OF INSPECTION</th>\n",
       "      <th>VIOLATION ITEM</th>\n",
       "      <th>VIOLATION DESCRIPTION</th>\n",
       "      <th>CRITICAL VIOLATION</th>\n",
       "      <th>TOTAL # CRITICAL VIOLATIONS</th>\n",
       "      <th>TOTAL # CRIT.  NOT CORRECTED</th>\n",
       "      <th>TOTAL # NONCRITICAL VIOLATIONS</th>\n",
       "      <th>LOCAL HEALTH DEPARTMENT</th>\n",
       "      <th>COUNTY</th>\n",
       "      <th>FOOD SERVICE TYPE</th>\n",
       "      <th>FOOD SERVICE DESCRIPTION</th>\n",
       "      <th>PERMITTED  (D/B/A)</th>\n",
       "      <th>NYS HEALTH OPERATION ID</th>\n",
       "      <th>INSPECTION TYPE</th>\n",
       "      <th>INSPECTION COMMENTS</th>\n",
       "      <th>FS FACILITY STATE</th>\n",
       "    </tr>\n",
       "  </thead>\n",
       "  <tbody>\n",
       "    <tr>\n",
       "      <th>0</th>\n",
       "      <td>08/31/2012</td>\n",
       "      <td>1B</td>\n",
       "      <td>Water/ice: unsafe, unapproved sources, cross c...</td>\n",
       "      <td>Critical Violation</td>\n",
       "      <td>1.0</td>\n",
       "      <td>0.0</td>\n",
       "      <td>14.0</td>\n",
       "      <td>Glens Falls District Office</td>\n",
       "      <td>WARREN</td>\n",
       "      <td>Food Service Establishment</td>\n",
       "      <td>Food Service Establishment</td>\n",
       "      <td>NaN</td>\n",
       "      <td>797701</td>\n",
       "      <td>Inspection</td>\n",
       "      <td>NaN</td>\n",
       "      <td>NY</td>\n",
       "    </tr>\n",
       "    <tr>\n",
       "      <th>1</th>\n",
       "      <td>10/14/2014</td>\n",
       "      <td>1B</td>\n",
       "      <td>Water/ice: unsafe, unapproved sources, cross c...</td>\n",
       "      <td>Critical Violation</td>\n",
       "      <td>4.0</td>\n",
       "      <td>0.0</td>\n",
       "      <td>9.0</td>\n",
       "      <td>Glens Falls District Office</td>\n",
       "      <td>SARATOGA</td>\n",
       "      <td>Food Service Establishment</td>\n",
       "      <td>Food Service Establishment</td>\n",
       "      <td>NaN</td>\n",
       "      <td>687752</td>\n",
       "      <td>Inspection</td>\n",
       "      <td>NaN</td>\n",
       "      <td>NY</td>\n",
       "    </tr>\n",
       "    <tr>\n",
       "      <th>2</th>\n",
       "      <td>12/09/2015</td>\n",
       "      <td>1B</td>\n",
       "      <td>Water/ice: unsafe, unapproved sources, cross c...</td>\n",
       "      <td>Critical Violation</td>\n",
       "      <td>1.0</td>\n",
       "      <td>0.0</td>\n",
       "      <td>0.0</td>\n",
       "      <td>Glens Falls District Office</td>\n",
       "      <td>SARATOGA</td>\n",
       "      <td>SOFA Food Service</td>\n",
       "      <td>SOFA Satellite Site -State Office for the Aging</td>\n",
       "      <td>NaN</td>\n",
       "      <td>333621</td>\n",
       "      <td>Inspection</td>\n",
       "      <td>11 meals, no eat-ins for 12/9/15. \\nPlease con...</td>\n",
       "      <td>NY</td>\n",
       "    </tr>\n",
       "    <tr>\n",
       "      <th>3</th>\n",
       "      <td>11/30/2016</td>\n",
       "      <td>1B</td>\n",
       "      <td>Water/ice: unsafe, unapproved sources, cross c...</td>\n",
       "      <td>Critical Violation</td>\n",
       "      <td>3.0</td>\n",
       "      <td>0.0</td>\n",
       "      <td>26.0</td>\n",
       "      <td>Glens Falls District Office</td>\n",
       "      <td>SARATOGA</td>\n",
       "      <td>Food Service Establishment</td>\n",
       "      <td>Food Service Establishment</td>\n",
       "      <td>NaN</td>\n",
       "      <td>912014</td>\n",
       "      <td>Inspection</td>\n",
       "      <td>All violations must be corrected and are subje...</td>\n",
       "      <td>NY</td>\n",
       "    </tr>\n",
       "    <tr>\n",
       "      <th>4</th>\n",
       "      <td>04/15/2009</td>\n",
       "      <td>1B</td>\n",
       "      <td>Water/ice: unsafe, unapproved sources, cross c...</td>\n",
       "      <td>Critical Violation</td>\n",
       "      <td>1.0</td>\n",
       "      <td>0.0</td>\n",
       "      <td>0.0</td>\n",
       "      <td>Herkimer District Office</td>\n",
       "      <td>HERKIMER</td>\n",
       "      <td>Food Service Establishment</td>\n",
       "      <td>Restaurant</td>\n",
       "      <td>NaN</td>\n",
       "      <td>338915</td>\n",
       "      <td>Inspection</td>\n",
       "      <td>NaN</td>\n",
       "      <td>NY</td>\n",
       "    </tr>\n",
       "  </tbody>\n",
       "</table>\n",
       "</div>"
      ],
      "text/plain": [
       "  DATE OF INSPECTION VIOLATION ITEM  \\\n",
       "0         08/31/2012             1B   \n",
       "1         10/14/2014             1B   \n",
       "2         12/09/2015             1B   \n",
       "3         11/30/2016             1B   \n",
       "4         04/15/2009             1B   \n",
       "\n",
       "                               VIOLATION DESCRIPTION  CRITICAL VIOLATION  \\\n",
       "0  Water/ice: unsafe, unapproved sources, cross c...  Critical Violation   \n",
       "1  Water/ice: unsafe, unapproved sources, cross c...  Critical Violation   \n",
       "2  Water/ice: unsafe, unapproved sources, cross c...  Critical Violation   \n",
       "3  Water/ice: unsafe, unapproved sources, cross c...  Critical Violation   \n",
       "4  Water/ice: unsafe, unapproved sources, cross c...  Critical Violation   \n",
       "\n",
       "   TOTAL # CRITICAL VIOLATIONS  TOTAL # CRIT.  NOT CORRECTED   \\\n",
       "0                          1.0                            0.0   \n",
       "1                          4.0                            0.0   \n",
       "2                          1.0                            0.0   \n",
       "3                          3.0                            0.0   \n",
       "4                          1.0                            0.0   \n",
       "\n",
       "   TOTAL # NONCRITICAL VIOLATIONS      LOCAL HEALTH DEPARTMENT    COUNTY  \\\n",
       "0                            14.0  Glens Falls District Office    WARREN   \n",
       "1                             9.0  Glens Falls District Office  SARATOGA   \n",
       "2                             0.0  Glens Falls District Office  SARATOGA   \n",
       "3                            26.0  Glens Falls District Office  SARATOGA   \n",
       "4                             0.0     Herkimer District Office  HERKIMER   \n",
       "\n",
       "            FOOD SERVICE TYPE  \\\n",
       "0  Food Service Establishment   \n",
       "1  Food Service Establishment   \n",
       "2           SOFA Food Service   \n",
       "3  Food Service Establishment   \n",
       "4  Food Service Establishment   \n",
       "\n",
       "                          FOOD SERVICE DESCRIPTION PERMITTED  (D/B/A)  \\\n",
       "0                       Food Service Establishment                NaN   \n",
       "1                       Food Service Establishment                NaN   \n",
       "2  SOFA Satellite Site -State Office for the Aging                NaN   \n",
       "3                       Food Service Establishment                NaN   \n",
       "4                                       Restaurant                NaN   \n",
       "\n",
       "   NYS HEALTH OPERATION ID INSPECTION TYPE  \\\n",
       "0                   797701      Inspection   \n",
       "1                   687752      Inspection   \n",
       "2                   333621      Inspection   \n",
       "3                   912014      Inspection   \n",
       "4                   338915      Inspection   \n",
       "\n",
       "                                 INSPECTION COMMENTS FS FACILITY STATE  \n",
       "0                                                NaN                NY  \n",
       "1                                                NaN                NY  \n",
       "2  11 meals, no eat-ins for 12/9/15. \\nPlease con...                NY  \n",
       "3  All violations must be corrected and are subje...                NY  \n",
       "4                                                NaN                NY  "
      ]
     },
     "execution_count": 12,
     "metadata": {},
     "output_type": "execute_result"
    }
   ],
   "source": [
    "food_df.drop_duplicates(inplace=True)\n",
    "food_df.head()"
   ]
  },
  {
   "cell_type": "code",
   "execution_count": 13,
   "metadata": {},
   "outputs": [
    {
     "data": {
      "text/plain": [
       "0"
      ]
     },
     "execution_count": 13,
     "metadata": {},
     "output_type": "execute_result"
    }
   ],
   "source": [
    "#Cross checking to find if the dataset contains any duplicates\n",
    "food_df.duplicated().sum()"
   ]
  },
  {
   "cell_type": "code",
   "execution_count": 14,
   "metadata": {},
   "outputs": [
    {
     "data": {
      "text/plain": [
       "DATE OF INSPECTION                     0\n",
       "VIOLATION ITEM                         0\n",
       "VIOLATION DESCRIPTION             100718\n",
       "CRITICAL VIOLATION                     0\n",
       "TOTAL # CRITICAL VIOLATIONS        33655\n",
       "TOTAL # CRIT.  NOT CORRECTED       34603\n",
       "TOTAL # NONCRITICAL VIOLATIONS     33538\n",
       "LOCAL HEALTH DEPARTMENT                0\n",
       "COUNTY                                 0\n",
       "FOOD SERVICE TYPE                      0\n",
       "FOOD SERVICE DESCRIPTION               0\n",
       "PERMITTED  (D/B/A)                593324\n",
       "NYS HEALTH OPERATION ID                0\n",
       "INSPECTION TYPE                        0\n",
       "INSPECTION COMMENTS               578851\n",
       "FS FACILITY STATE                      0\n",
       "dtype: int64"
      ]
     },
     "execution_count": 14,
     "metadata": {},
     "output_type": "execute_result"
    }
   ],
   "source": [
    "#Remove the NaN values from the dataset\n",
    "food_df.isnull().sum()"
   ]
  },
  {
   "cell_type": "code",
   "execution_count": 15,
   "metadata": {},
   "outputs": [
    {
     "name": "stdout",
     "output_type": "stream",
     "text": [
      "<class 'pandas.core.frame.DataFrame'>\n",
      "Int64Index: 6484 entries, 102 to 678177\n",
      "Data columns (total 16 columns):\n",
      " #   Column                          Non-Null Count  Dtype  \n",
      "---  ------                          --------------  -----  \n",
      " 0   DATE OF INSPECTION              6484 non-null   object \n",
      " 1   VIOLATION ITEM                  6484 non-null   object \n",
      " 2   VIOLATION DESCRIPTION           6484 non-null   object \n",
      " 3   CRITICAL VIOLATION              6484 non-null   object \n",
      " 4   TOTAL # CRITICAL VIOLATIONS     6484 non-null   float64\n",
      " 5   TOTAL # CRIT.  NOT CORRECTED    6484 non-null   float64\n",
      " 6   TOTAL # NONCRITICAL VIOLATIONS  6484 non-null   float64\n",
      " 7   LOCAL HEALTH DEPARTMENT         6484 non-null   object \n",
      " 8   COUNTY                          6484 non-null   object \n",
      " 9   FOOD SERVICE TYPE               6484 non-null   object \n",
      " 10  FOOD SERVICE DESCRIPTION        6484 non-null   object \n",
      " 11  PERMITTED  (D/B/A)              6484 non-null   object \n",
      " 12  NYS HEALTH OPERATION ID         6484 non-null   int64  \n",
      " 13  INSPECTION TYPE                 6484 non-null   object \n",
      " 14  INSPECTION COMMENTS             6484 non-null   object \n",
      " 15  FS FACILITY STATE               6484 non-null   object \n",
      "dtypes: float64(3), int64(1), object(12)\n",
      "memory usage: 861.2+ KB\n"
     ]
    }
   ],
   "source": [
    "# Dropping the 'any' values from the dataset\n",
    "food_df.dropna(how='any',inplace=True)\n",
    "food_df.info() "
   ]
  },
  {
   "cell_type": "code",
   "execution_count": 16,
   "metadata": {},
   "outputs": [
    {
     "data": {
      "text/plain": [
       "Index(['DATE OF INSPECTION', 'VIOLATION ITEM', 'VIOLATION DESCRIPTION',\n",
       "       'CRITICAL VIOLATION', 'TOTAL # CRITICAL VIOLATIONS',\n",
       "       'TOTAL # CRIT.  NOT CORRECTED ', 'TOTAL # NONCRITICAL VIOLATIONS',\n",
       "       'LOCAL HEALTH DEPARTMENT', 'COUNTY', 'FOOD SERVICE TYPE',\n",
       "       'FOOD SERVICE DESCRIPTION', 'PERMITTED  (D/B/A)',\n",
       "       'NYS HEALTH OPERATION ID', 'INSPECTION TYPE', 'INSPECTION COMMENTS',\n",
       "       'FS FACILITY STATE'],\n",
       "      dtype='object')"
      ]
     },
     "execution_count": 16,
     "metadata": {},
     "output_type": "execute_result"
    }
   ],
   "source": [
    "food_df.columns"
   ]
  },
  {
   "cell_type": "code",
   "execution_count": 17,
   "metadata": {},
   "outputs": [
    {
     "data": {
      "text/plain": [
       "Index(['DATE OF INSPECTION', 'VIOLATION ITEM', 'VIOLATION DESCRIPTION',\n",
       "       'CRITICAL VIOLATION', 'TOTAL # CRITICAL VIOLATIONS',\n",
       "       'TOTAL # CRIT.  NOT CORRECTED ', 'TOTAL # NONCRITICAL VIOLATIONS',\n",
       "       'LOCAL HEALTH DEPARTMENT', 'COUNTY', 'FOOD SERVICE TYPE',\n",
       "       'FOOD SERVICE DESCRIPTION', 'PERMITTED  (D/B/A)',\n",
       "       'NYS HEALTH OPERATION ID', 'INSPECTION TYPE', 'INSPECTION COMMENTS',\n",
       "       'FS FACILITY STATE'],\n",
       "      dtype='object')"
      ]
     },
     "execution_count": 17,
     "metadata": {},
     "output_type": "execute_result"
    },
    {
     "data": {
      "image/png": "[encoded data removed]",
      "text/plain": [
       "<Figure size 648x504 with 2 Axes>"
      ]
     },
     "metadata": {
      "needs_background": "light"
     },
     "output_type": "display_data"
    }
   ],
   "source": [
    "corr = food_df.corr(method='kendall')\n",
    "plt.figure(figsize=(9,7))\n",
    "sns.heatmap(corr, annot=True)\n",
    "food_df.columns"
   ]
  },
  {
   "cell_type": "markdown",
   "metadata": {},
   "source": [
    "# VISUALISATION"
   ]
  },
  {
   "cell_type": "code",
   "execution_count": 18,
   "metadata": {},
   "outputs": [
    {
     "data": {
      "image/png": "[encoded data removed]",
      "text/plain": [
       "<Figure size 936x648 with 1 Axes>"
      ]
     },
     "metadata": {
      "needs_background": "light"
     },
     "output_type": "display_data"
    }
   ],
   "source": [
    "plt.rcParams['figure.figsize'] = (13, 9)\n",
    "Y = pd.crosstab(food_df['COUNTY'], food_df['CRITICAL VIOLATION'])\n",
    "Y.div(Y.sum(1).astype(float), axis = 0).plot(kind = 'bar', stacked = True,color=['red','yellow'])\n",
    "plt.title('COUNTY VS CRITICAL VIOLATION', fontweight = 30, fontsize = 20)\n",
    "plt.legend(loc=\"upper right\")\n",
    "plt.show()"
   ]
  },
  {
   "cell_type": "code",
   "execution_count": 19,
   "metadata": {},
   "outputs": [
    {
     "name": "stderr",
     "output_type": "stream",
     "text": [
      "C:\\Users\\Shivasheela\\anaconda3\\lib\\site-packages\\seaborn\\_decorators.py:36: FutureWarning: Pass the following variable as a keyword arg: x. From version 0.12, the only valid positional argument will be `data`, and passing other arguments without an explicit keyword will result in an error or misinterpretation.\n",
      "  warnings.warn(\n",
      "C:\\Users\\Shivasheela\\anaconda3\\lib\\site-packages\\seaborn\\_decorators.py:36: FutureWarning: Pass the following variable as a keyword arg: x. From version 0.12, the only valid positional argument will be `data`, and passing other arguments without an explicit keyword will result in an error or misinterpretation.\n",
      "  warnings.warn(\n",
      "C:\\Users\\Shivasheela\\anaconda3\\lib\\site-packages\\seaborn\\_decorators.py:36: FutureWarning: Pass the following variable as a keyword arg: x. From version 0.12, the only valid positional argument will be `data`, and passing other arguments without an explicit keyword will result in an error or misinterpretation.\n",
      "  warnings.warn(\n"
     ]
    },
    {
     "data": {
      "text/plain": [
       "Text(0.5, 1.0, 'Number of Inspection as per County')"
      ]
     },
     "execution_count": 19,
     "metadata": {},
     "output_type": "execute_result"
    },
    {
     "data": {
      "image/png": "[encoded data removed]",
      "text/plain": [
       "<Figure size 864x576 with 1 Axes>"
      ]
     },
     "metadata": {
      "needs_background": "light"
     },
     "output_type": "display_data"
    }
   ],
   "source": [
    "# Location\n",
    "sns.countplot(data['COUNTY'])\n",
    "sns.countplot(data['COUNTY']).set_xticklabels(sns.countplot(data['COUNTY']).get_xticklabels(), rotation=90, ha=\"right\")\n",
    "fig = plt.gcf() \n",
    "fig.set_size_inches(12,8)\n",
    "plt.title('Number of Inspection as per County')"
   ]
  },
  {
   "cell_type": "markdown",
   "metadata": {},
   "source": [
    "# Classification Analysis"
   ]
  },
  {
   "cell_type": "code",
   "execution_count": 20,
   "metadata": {},
   "outputs": [
    {
     "data": {
      "text/html": [
       "<div>\n",
       "<style scoped>\n",
       "    .dataframe tbody tr th:only-of-type {\n",
       "        vertical-align: middle;\n",
       "    }\n",
       "\n",
       "    .dataframe tbody tr th {\n",
       "        vertical-align: top;\n",
       "    }\n",
       "\n",
       "    .dataframe thead th {\n",
       "        text-align: right;\n",
       "    }\n",
       "</style>\n",
       "<table border=\"1\" class=\"dataframe\">\n",
       "  <thead>\n",
       "    <tr style=\"text-align: right;\">\n",
       "      <th></th>\n",
       "      <th>DATE OF INSPECTION</th>\n",
       "      <th>VIOLATION ITEM</th>\n",
       "      <th>VIOLATION DESCRIPTION</th>\n",
       "      <th>CRITICAL VIOLATION</th>\n",
       "      <th>TOTAL # CRITICAL VIOLATIONS</th>\n",
       "      <th>TOTAL # CRIT.  NOT CORRECTED</th>\n",
       "      <th>TOTAL # NONCRITICAL VIOLATIONS</th>\n",
       "      <th>LOCAL HEALTH DEPARTMENT</th>\n",
       "      <th>COUNTY</th>\n",
       "      <th>FOOD SERVICE TYPE</th>\n",
       "      <th>FOOD SERVICE DESCRIPTION</th>\n",
       "      <th>PERMITTED  (D/B/A)</th>\n",
       "      <th>NYS HEALTH OPERATION ID</th>\n",
       "      <th>INSPECTION TYPE</th>\n",
       "      <th>INSPECTION COMMENTS</th>\n",
       "      <th>FS FACILITY STATE</th>\n",
       "    </tr>\n",
       "  </thead>\n",
       "  <tbody>\n",
       "    <tr>\n",
       "      <th>102</th>\n",
       "      <td>11/05/2015</td>\n",
       "      <td>1D</td>\n",
       "      <td>Canned foods found in poor conditions (leakers...</td>\n",
       "      <td>Critical Violation</td>\n",
       "      <td>1.0</td>\n",
       "      <td>0.0</td>\n",
       "      <td>6.0</td>\n",
       "      <td>Nassau  County</td>\n",
       "      <td>NASSAU</td>\n",
       "      <td>Food Service Establishment</td>\n",
       "      <td>Restaurant</td>\n",
       "      <td>ELEANOR RIGBY'S</td>\n",
       "      <td>571971</td>\n",
       "      <td>Inspection</td>\n",
       "      <td>This establishment received a \"B\" rating.  The...</td>\n",
       "      <td>NY</td>\n",
       "    </tr>\n",
       "    <tr>\n",
       "      <th>197</th>\n",
       "      <td>06/11/2010</td>\n",
       "      <td>1B</td>\n",
       "      <td>Water/ice: unsafe, unapproved sources, cross c...</td>\n",
       "      <td>Critical Violation</td>\n",
       "      <td>1.0</td>\n",
       "      <td>0.0</td>\n",
       "      <td>1.0</td>\n",
       "      <td>Oswego County</td>\n",
       "      <td>OSWEGO</td>\n",
       "      <td>Food Service Establishment</td>\n",
       "      <td>Restaurant</td>\n",
       "      <td>SUBWAY-WEST</td>\n",
       "      <td>296775</td>\n",
       "      <td>Inspection</td>\n",
       "      <td>6/11/10\\n\\n10A  ICE SCOOP BROKEN -VERY LARGE C...</td>\n",
       "      <td>NY</td>\n",
       "    </tr>\n",
       "    <tr>\n",
       "      <th>217</th>\n",
       "      <td>11/18/2016</td>\n",
       "      <td>1B</td>\n",
       "      <td>Water/ice: unsafe, unapproved sources, cross c...</td>\n",
       "      <td>Critical Violation</td>\n",
       "      <td>4.0</td>\n",
       "      <td>0.0</td>\n",
       "      <td>15.0</td>\n",
       "      <td>Westchester County</td>\n",
       "      <td>WESTCHESTER</td>\n",
       "      <td>Food Service Establishment</td>\n",
       "      <td>Food Service Establishment</td>\n",
       "      <td>TASTE OF CHINA</td>\n",
       "      <td>443061</td>\n",
       "      <td>Inspection</td>\n",
       "      <td>Discussed: WIPING CLOTH PROCEDURE.; Use of san...</td>\n",
       "      <td>NY</td>\n",
       "    </tr>\n",
       "    <tr>\n",
       "      <th>235</th>\n",
       "      <td>06/10/2016</td>\n",
       "      <td>1F</td>\n",
       "      <td>Shellfish not from approved sources, improperl...</td>\n",
       "      <td>Critical Violation</td>\n",
       "      <td>5.0</td>\n",
       "      <td>0.0</td>\n",
       "      <td>23.0</td>\n",
       "      <td>Westchester County</td>\n",
       "      <td>WESTCHESTER</td>\n",
       "      <td>Food Service Establishment</td>\n",
       "      <td>Food Service Establishment</td>\n",
       "      <td>PASTA PLUS</td>\n",
       "      <td>456448</td>\n",
       "      <td>Inspection</td>\n",
       "      <td>Unsatisfactory inspection. Re-inspection plann...</td>\n",
       "      <td>NY</td>\n",
       "    </tr>\n",
       "    <tr>\n",
       "      <th>236</th>\n",
       "      <td>10/12/2016</td>\n",
       "      <td>1F</td>\n",
       "      <td>Shellfish not from approved sources, improperl...</td>\n",
       "      <td>Critical Violation</td>\n",
       "      <td>1.0</td>\n",
       "      <td>0.0</td>\n",
       "      <td>5.0</td>\n",
       "      <td>Westchester County</td>\n",
       "      <td>WESTCHESTER</td>\n",
       "      <td>Food Service Establishment</td>\n",
       "      <td>Food Service Establishment</td>\n",
       "      <td>LA CAMELIA</td>\n",
       "      <td>458988</td>\n",
       "      <td>Re-Inspection</td>\n",
       "      <td>Re-inspection scheduled for 10/19/16. Correct ...</td>\n",
       "      <td>NY</td>\n",
       "    </tr>\n",
       "  </tbody>\n",
       "</table>\n",
       "</div>"
      ],
      "text/plain": [
       "    DATE OF INSPECTION VIOLATION ITEM  \\\n",
       "102         11/05/2015             1D   \n",
       "197         06/11/2010             1B   \n",
       "217         11/18/2016             1B   \n",
       "235         06/10/2016             1F   \n",
       "236         10/12/2016             1F   \n",
       "\n",
       "                                 VIOLATION DESCRIPTION  CRITICAL VIOLATION  \\\n",
       "102  Canned foods found in poor conditions (leakers...  Critical Violation   \n",
       "197  Water/ice: unsafe, unapproved sources, cross c...  Critical Violation   \n",
       "217  Water/ice: unsafe, unapproved sources, cross c...  Critical Violation   \n",
       "235  Shellfish not from approved sources, improperl...  Critical Violation   \n",
       "236  Shellfish not from approved sources, improperl...  Critical Violation   \n",
       "\n",
       "     TOTAL # CRITICAL VIOLATIONS  TOTAL # CRIT.  NOT CORRECTED   \\\n",
       "102                          1.0                            0.0   \n",
       "197                          1.0                            0.0   \n",
       "217                          4.0                            0.0   \n",
       "235                          5.0                            0.0   \n",
       "236                          1.0                            0.0   \n",
       "\n",
       "     TOTAL # NONCRITICAL VIOLATIONS LOCAL HEALTH DEPARTMENT       COUNTY  \\\n",
       "102                             6.0          Nassau  County       NASSAU   \n",
       "197                             1.0           Oswego County       OSWEGO   \n",
       "217                            15.0      Westchester County  WESTCHESTER   \n",
       "235                            23.0      Westchester County  WESTCHESTER   \n",
       "236                             5.0      Westchester County  WESTCHESTER   \n",
       "\n",
       "              FOOD SERVICE TYPE    FOOD SERVICE DESCRIPTION  \\\n",
       "102  Food Service Establishment                  Restaurant   \n",
       "197  Food Service Establishment                  Restaurant   \n",
       "217  Food Service Establishment  Food Service Establishment   \n",
       "235  Food Service Establishment  Food Service Establishment   \n",
       "236  Food Service Establishment  Food Service Establishment   \n",
       "\n",
       "    PERMITTED  (D/B/A)  NYS HEALTH OPERATION ID INSPECTION TYPE  \\\n",
       "102    ELEANOR RIGBY'S                   571971      Inspection   \n",
       "197        SUBWAY-WEST                   296775      Inspection   \n",
       "217     TASTE OF CHINA                   443061      Inspection   \n",
       "235        PASTA PLUS                    456448      Inspection   \n",
       "236         LA CAMELIA                   458988   Re-Inspection   \n",
       "\n",
       "                                   INSPECTION COMMENTS FS FACILITY STATE  \n",
       "102  This establishment received a \"B\" rating.  The...                NY  \n",
       "197  6/11/10\\n\\n10A  ICE SCOOP BROKEN -VERY LARGE C...                NY  \n",
       "217  Discussed: WIPING CLOTH PROCEDURE.; Use of san...                NY  \n",
       "235  Unsatisfactory inspection. Re-inspection plann...                NY  \n",
       "236  Re-inspection scheduled for 10/19/16. Correct ...                NY  "
      ]
     },
     "execution_count": 20,
     "metadata": {},
     "output_type": "execute_result"
    }
   ],
   "source": [
    "food_df.head()"
   ]
  },
  {
   "cell_type": "code",
   "execution_count": 21,
   "metadata": {},
   "outputs": [],
   "source": [
    "# Columns to drop\n",
    "# Date of Inspection\n",
    "# Violation Description - Violation item provides information about the type of the violation and description doesn't\n",
    "# add much importance to the prediction.\n",
    "# Local helath department - We are making predictions at the county level and not at the local health department level.\n",
    "# Food service description - We are using food service type. Hence, we drop food service description.\n",
    "# Permitted(D/B/A)-- This does not add any importance to the prediction. Hence, we drop this field.\n",
    "# NYS HEALTH OPERATION ID - This is a unique column and unique columns do not add importance.\n",
    "# INSPECTION COMMENTS\n",
    "# FS FACILITY STATE - This dataset contains only records for the NY state. Hence, this doesn't add any importance in our \n",
    "# prediction"
   ]
  },
  {
   "cell_type": "code",
   "execution_count": 22,
   "metadata": {},
   "outputs": [
    {
     "data": {
      "text/html": [
       "<div>\n",
       "<style scoped>\n",
       "    .dataframe tbody tr th:only-of-type {\n",
       "        vertical-align: middle;\n",
       "    }\n",
       "\n",
       "    .dataframe tbody tr th {\n",
       "        vertical-align: top;\n",
       "    }\n",
       "\n",
       "    .dataframe thead th {\n",
       "        text-align: right;\n",
       "    }\n",
       "</style>\n",
       "<table border=\"1\" class=\"dataframe\">\n",
       "  <thead>\n",
       "    <tr style=\"text-align: right;\">\n",
       "      <th></th>\n",
       "      <th>VIOLATION ITEM</th>\n",
       "      <th>CRITICAL VIOLATION</th>\n",
       "      <th>TOTAL # CRITICAL VIOLATIONS</th>\n",
       "      <th>TOTAL # CRIT.  NOT CORRECTED</th>\n",
       "      <th>TOTAL # NONCRITICAL VIOLATIONS</th>\n",
       "      <th>COUNTY</th>\n",
       "      <th>FOOD SERVICE TYPE</th>\n",
       "      <th>INSPECTION TYPE</th>\n",
       "    </tr>\n",
       "  </thead>\n",
       "  <tbody>\n",
       "    <tr>\n",
       "      <th>102</th>\n",
       "      <td>1D</td>\n",
       "      <td>Critical Violation</td>\n",
       "      <td>1.0</td>\n",
       "      <td>0.0</td>\n",
       "      <td>6.0</td>\n",
       "      <td>NASSAU</td>\n",
       "      <td>Food Service Establishment</td>\n",
       "      <td>Inspection</td>\n",
       "    </tr>\n",
       "    <tr>\n",
       "      <th>197</th>\n",
       "      <td>1B</td>\n",
       "      <td>Critical Violation</td>\n",
       "      <td>1.0</td>\n",
       "      <td>0.0</td>\n",
       "      <td>1.0</td>\n",
       "      <td>OSWEGO</td>\n",
       "      <td>Food Service Establishment</td>\n",
       "      <td>Inspection</td>\n",
       "    </tr>\n",
       "    <tr>\n",
       "      <th>217</th>\n",
       "      <td>1B</td>\n",
       "      <td>Critical Violation</td>\n",
       "      <td>4.0</td>\n",
       "      <td>0.0</td>\n",
       "      <td>15.0</td>\n",
       "      <td>WESTCHESTER</td>\n",
       "      <td>Food Service Establishment</td>\n",
       "      <td>Inspection</td>\n",
       "    </tr>\n",
       "    <tr>\n",
       "      <th>235</th>\n",
       "      <td>1F</td>\n",
       "      <td>Critical Violation</td>\n",
       "      <td>5.0</td>\n",
       "      <td>0.0</td>\n",
       "      <td>23.0</td>\n",
       "      <td>WESTCHESTER</td>\n",
       "      <td>Food Service Establishment</td>\n",
       "      <td>Inspection</td>\n",
       "    </tr>\n",
       "    <tr>\n",
       "      <th>236</th>\n",
       "      <td>1F</td>\n",
       "      <td>Critical Violation</td>\n",
       "      <td>1.0</td>\n",
       "      <td>0.0</td>\n",
       "      <td>5.0</td>\n",
       "      <td>WESTCHESTER</td>\n",
       "      <td>Food Service Establishment</td>\n",
       "      <td>Re-Inspection</td>\n",
       "    </tr>\n",
       "  </tbody>\n",
       "</table>\n",
       "</div>"
      ],
      "text/plain": [
       "    VIOLATION ITEM  CRITICAL VIOLATION  TOTAL # CRITICAL VIOLATIONS  \\\n",
       "102             1D  Critical Violation                          1.0   \n",
       "197             1B  Critical Violation                          1.0   \n",
       "217             1B  Critical Violation                          4.0   \n",
       "235             1F  Critical Violation                          5.0   \n",
       "236             1F  Critical Violation                          1.0   \n",
       "\n",
       "     TOTAL # CRIT.  NOT CORRECTED   TOTAL # NONCRITICAL VIOLATIONS  \\\n",
       "102                            0.0                             6.0   \n",
       "197                            0.0                             1.0   \n",
       "217                            0.0                            15.0   \n",
       "235                            0.0                            23.0   \n",
       "236                            0.0                             5.0   \n",
       "\n",
       "          COUNTY           FOOD SERVICE TYPE INSPECTION TYPE  \n",
       "102       NASSAU  Food Service Establishment      Inspection  \n",
       "197       OSWEGO  Food Service Establishment      Inspection  \n",
       "217  WESTCHESTER  Food Service Establishment      Inspection  \n",
       "235  WESTCHESTER  Food Service Establishment      Inspection  \n",
       "236  WESTCHESTER  Food Service Establishment   Re-Inspection  "
      ]
     },
     "execution_count": 22,
     "metadata": {},
     "output_type": "execute_result"
    }
   ],
   "source": [
    "# print(food_df.columns)\n",
    "food_df.drop(columns=[ 'DATE OF INSPECTION','VIOLATION DESCRIPTION','LOCAL HEALTH DEPARTMENT','FOOD SERVICE DESCRIPTION',\n",
    "        'PERMITTED  (D/B/A)','NYS HEALTH OPERATION ID','INSPECTION COMMENTS','FS FACILITY STATE'], inplace=True)\n",
    "food_df.head(5)"
   ]
  },
  {
   "cell_type": "code",
   "execution_count": 23,
   "metadata": {},
   "outputs": [
    {
     "data": {
      "text/plain": [
       "array(['1D', '1B', '1F', '1H', '2A', '2C', '2E', '4A', '3C', '5A', '5B',\n",
       "       '5C', '5D', '5E', '6A', '8A', '7F', '6B', '7G', '8B', '8D', '8C',\n",
       "       '8E', '8F', '9B', '10A', '9C', '9D', '10B', '11A', '11B', '11C',\n",
       "       '11D', '12A', '12C', '12E', '12D', '13A', '14A', '14B', '14C',\n",
       "       '15A', '15B', '15C', '16', '2B', '3B', '8G', '13B', '15D', '1G',\n",
       "       '9A', '7E', '7A', '1C', '2D', '3A', '12B'], dtype=object)"
      ]
     },
     "execution_count": 23,
     "metadata": {},
     "output_type": "execute_result"
    }
   ],
   "source": [
    "# CARDENALTIY REDUCTION\n",
    "# Since the cardinality of the violation item column is too high, we reduce the cardenality by considering the sub-categories\n",
    "# of all the violation items into its single category\n",
    "# For example, violation items 1A, 1B, 1C.... will be taken as a single category 1.\n",
    "food_df['VIOLATION ITEM'].unique()"
   ]
  },
  {
   "cell_type": "code",
   "execution_count": 24,
   "metadata": {},
   "outputs": [],
   "source": [
    "# Function to fetch the category of the violation\n",
    "def get_violation_item_number(violation_id):\n",
    "    if len(violation_id) == 2:\n",
    "        return violation_id[0]\n",
    "    elif len(violation_id) == 1:\n",
    "        return violation_id\n",
    "    else:\n",
    "        return violation_id[:2]"
   ]
  },
  {
   "cell_type": "code",
   "execution_count": 25,
   "metadata": {},
   "outputs": [],
   "source": [
    "# Creating a new column by applying the above defined function to the violation item column.\n",
    "food_df['VIOLATION ITEM'] = food_df['VIOLATION ITEM'].apply(get_violation_item_number)"
   ]
  },
  {
   "cell_type": "code",
   "execution_count": 26,
   "metadata": {},
   "outputs": [],
   "source": [
    "# food_df.head()"
   ]
  },
  {
   "cell_type": "code",
   "execution_count": 27,
   "metadata": {},
   "outputs": [
    {
     "name": "stdout",
     "output_type": "stream",
     "text": [
      "Unique items: ['1' '2' '4' '3' '5' '6' '8' '7' '9' '10' '11' '12' '13' '14' '15']\n",
      "Number of unique items 15\n"
     ]
    }
   ],
   "source": [
    "# The cadenality of the field has been reduced from 58 to 15 as shown below\n",
    "\n",
    "print(\"Unique items:\",food_df['VIOLATION ITEM'].unique())\n",
    "print(\"Number of unique items\",len(food_df['VIOLATION ITEM'].unique()))"
   ]
  },
  {
   "cell_type": "code",
   "execution_count": 28,
   "metadata": {},
   "outputs": [
    {
     "name": "stdout",
     "output_type": "stream",
     "text": [
      "UNIQUE INSPECTION TYPE\n",
      "====================================\n",
      "['Food Service Establishment' 'Institutional Food Service'\n",
      " 'SED Summer Feeding Prog.' 'SOFA Food Service']\n",
      "UNIQUE FOOD SERVICE TYPE\n",
      "====================================\n",
      "['Inspection' 'Re-Inspection']\n",
      "UNIQUE COUNTY\n",
      "====================================\n",
      "['NASSAU' 'OSWEGO' 'WESTCHESTER' 'HERKIMER' 'OTSEGO' 'MONTGOMERY' 'WARREN'\n",
      " 'CLINTON' 'LEWIS' 'JEFFERSON' 'ST LAWRENCE' 'STEUBEN' 'CHEMUNG' 'FULTON'\n",
      " 'TOMPKINS' 'MADISON' 'COLUMBIA' 'CORTLAND' 'SARATOGA' 'CHAUTAUQUA'\n",
      " 'ROCKLAND' 'GREENE' 'SCHENECTADY' 'PUTNAM' 'NIAGARA' 'DELAWARE'\n",
      " 'WASHINGTON' 'HAMILTON' 'SCHUYLER']\n",
      "UNIQUE CRITICAL VIOLATION\n",
      "====================================\n",
      "['Critical Violation' 'Not Critical Violation']\n"
     ]
    }
   ],
   "source": [
    "# print(food_df['FOOD SERVICE DESCRIPTION'].unique())\n",
    "print(\"UNIQUE INSPECTION TYPE\")\n",
    "print(\"====================================\")\n",
    "print(food_df['FOOD SERVICE TYPE'].unique())\n",
    "\n",
    "print(\"UNIQUE FOOD SERVICE TYPE\")\n",
    "print(\"====================================\")\n",
    "print(food_df['INSPECTION TYPE'].unique())\n",
    "\n",
    "print(\"UNIQUE COUNTY\")\n",
    "print(\"====================================\")\n",
    "print(food_df['COUNTY'].unique())\n",
    "\n",
    "print(\"UNIQUE CRITICAL VIOLATION\")\n",
    "print(\"====================================\")\n",
    "print(food_df['CRITICAL VIOLATION'].unique())"
   ]
  },
  {
   "cell_type": "markdown",
   "metadata": {},
   "source": [
    "# Label Encoding the categorical variables"
   ]
  },
  {
   "cell_type": "code",
   "execution_count": 29,
   "metadata": {},
   "outputs": [],
   "source": [
    "from sklearn.preprocessing import LabelEncoder\n",
    "from sklearn.model_selection import train_test_split\n",
    "from sklearn.ensemble import RandomForestClassifier\n",
    "from sklearn.metrics import classification_report,confusion_matrix,accuracy_score"
   ]
  },
  {
   "cell_type": "code",
   "execution_count": 30,
   "metadata": {},
   "outputs": [],
   "source": [
    "le = LabelEncoder()"
   ]
  },
  {
   "cell_type": "code",
   "execution_count": 31,
   "metadata": {},
   "outputs": [],
   "source": [
    "column_list = ['FOOD SERVICE TYPE','INSPECTION TYPE','COUNTY','CRITICAL VIOLATION']"
   ]
  },
  {
   "cell_type": "code",
   "execution_count": 32,
   "metadata": {},
   "outputs": [],
   "source": [
    "for column in column_list:\n",
    "    food_df[column] = le.fit_transform(food_df[column])\n"
   ]
  },
  {
   "cell_type": "code",
   "execution_count": 33,
   "metadata": {},
   "outputs": [
    {
     "data": {
      "text/html": [
       "<div>\n",
       "<style scoped>\n",
       "    .dataframe tbody tr th:only-of-type {\n",
       "        vertical-align: middle;\n",
       "    }\n",
       "\n",
       "    .dataframe tbody tr th {\n",
       "        vertical-align: top;\n",
       "    }\n",
       "\n",
       "    .dataframe thead th {\n",
       "        text-align: right;\n",
       "    }\n",
       "</style>\n",
       "<table border=\"1\" class=\"dataframe\">\n",
       "  <thead>\n",
       "    <tr style=\"text-align: right;\">\n",
       "      <th></th>\n",
       "      <th>VIOLATION ITEM</th>\n",
       "      <th>CRITICAL VIOLATION</th>\n",
       "      <th>TOTAL # CRITICAL VIOLATIONS</th>\n",
       "      <th>TOTAL # CRIT.  NOT CORRECTED</th>\n",
       "      <th>TOTAL # NONCRITICAL VIOLATIONS</th>\n",
       "      <th>COUNTY</th>\n",
       "      <th>FOOD SERVICE TYPE</th>\n",
       "      <th>INSPECTION TYPE</th>\n",
       "    </tr>\n",
       "  </thead>\n",
       "  <tbody>\n",
       "    <tr>\n",
       "      <th>102</th>\n",
       "      <td>1</td>\n",
       "      <td>0</td>\n",
       "      <td>1.0</td>\n",
       "      <td>0.0</td>\n",
       "      <td>6.0</td>\n",
       "      <td>14</td>\n",
       "      <td>0</td>\n",
       "      <td>0</td>\n",
       "    </tr>\n",
       "    <tr>\n",
       "      <th>197</th>\n",
       "      <td>1</td>\n",
       "      <td>0</td>\n",
       "      <td>1.0</td>\n",
       "      <td>0.0</td>\n",
       "      <td>1.0</td>\n",
       "      <td>16</td>\n",
       "      <td>0</td>\n",
       "      <td>0</td>\n",
       "    </tr>\n",
       "    <tr>\n",
       "      <th>217</th>\n",
       "      <td>1</td>\n",
       "      <td>0</td>\n",
       "      <td>4.0</td>\n",
       "      <td>0.0</td>\n",
       "      <td>15.0</td>\n",
       "      <td>28</td>\n",
       "      <td>0</td>\n",
       "      <td>0</td>\n",
       "    </tr>\n",
       "    <tr>\n",
       "      <th>235</th>\n",
       "      <td>1</td>\n",
       "      <td>0</td>\n",
       "      <td>5.0</td>\n",
       "      <td>0.0</td>\n",
       "      <td>23.0</td>\n",
       "      <td>28</td>\n",
       "      <td>0</td>\n",
       "      <td>0</td>\n",
       "    </tr>\n",
       "    <tr>\n",
       "      <th>236</th>\n",
       "      <td>1</td>\n",
       "      <td>0</td>\n",
       "      <td>1.0</td>\n",
       "      <td>0.0</td>\n",
       "      <td>5.0</td>\n",
       "      <td>28</td>\n",
       "      <td>0</td>\n",
       "      <td>1</td>\n",
       "    </tr>\n",
       "  </tbody>\n",
       "</table>\n",
       "</div>"
      ],
      "text/plain": [
       "    VIOLATION ITEM  CRITICAL VIOLATION  TOTAL # CRITICAL VIOLATIONS  \\\n",
       "102              1                   0                          1.0   \n",
       "197              1                   0                          1.0   \n",
       "217              1                   0                          4.0   \n",
       "235              1                   0                          5.0   \n",
       "236              1                   0                          1.0   \n",
       "\n",
       "     TOTAL # CRIT.  NOT CORRECTED   TOTAL # NONCRITICAL VIOLATIONS  COUNTY  \\\n",
       "102                            0.0                             6.0      14   \n",
       "197                            0.0                             1.0      16   \n",
       "217                            0.0                            15.0      28   \n",
       "235                            0.0                            23.0      28   \n",
       "236                            0.0                             5.0      28   \n",
       "\n",
       "     FOOD SERVICE TYPE  INSPECTION TYPE  \n",
       "102                  0                0  \n",
       "197                  0                0  \n",
       "217                  0                0  \n",
       "235                  0                0  \n",
       "236                  0                1  "
      ]
     },
     "execution_count": 33,
     "metadata": {},
     "output_type": "execute_result"
    }
   ],
   "source": [
    "food_df.head(5)"
   ]
  },
  {
   "cell_type": "code",
   "execution_count": 34,
   "metadata": {},
   "outputs": [
    {
     "data": {
      "text/plain": [
       "6484"
      ]
     },
     "execution_count": 34,
     "metadata": {},
     "output_type": "execute_result"
    }
   ],
   "source": [
    "len(food_df)"
   ]
  },
  {
   "cell_type": "markdown",
   "metadata": {},
   "source": [
    "# Training the Dataset"
   ]
  },
  {
   "cell_type": "code",
   "execution_count": 35,
   "metadata": {},
   "outputs": [],
   "source": [
    "X = food_df.drop(columns=['CRITICAL VIOLATION'])\n",
    "y = food_df['CRITICAL VIOLATION']"
   ]
  },
  {
   "cell_type": "code",
   "execution_count": 36,
   "metadata": {},
   "outputs": [
    {
     "name": "stdout",
     "output_type": "stream",
     "text": [
      "(6484, 7)\n",
      "(6484,)\n"
     ]
    }
   ],
   "source": [
    "print(X.shape)\n",
    "print(y.shape)"
   ]
  },
  {
   "cell_type": "code",
   "execution_count": 37,
   "metadata": {},
   "outputs": [],
   "source": [
    "X_train, X_test, y_train, y_test = train_test_split(X, y, test_size=0.3, random_state=42)"
   ]
  },
  {
   "cell_type": "code",
   "execution_count": 38,
   "metadata": {},
   "outputs": [
    {
     "name": "stdout",
     "output_type": "stream",
     "text": [
      "(4538, 7)\n",
      "(4538,)\n",
      "(1946, 7)\n",
      "(1946,)\n"
     ]
    }
   ],
   "source": [
    "print(X_train.shape)\n",
    "print(y_train.shape)\n",
    "print(X_test.shape)\n",
    "print(y_test.shape)"
   ]
  },
  {
   "cell_type": "markdown",
   "metadata": {},
   "source": [
    "# Applying the Classification Models"
   ]
  },
  {
   "cell_type": "markdown",
   "metadata": {},
   "source": [
    "# Random Forest Classifier "
   ]
  },
  {
   "cell_type": "code",
   "execution_count": 39,
   "metadata": {},
   "outputs": [],
   "source": [
    "# Initiating the random forest classifier model\n",
    "rand = RandomForestClassifier()"
   ]
  },
  {
   "cell_type": "code",
   "execution_count": 40,
   "metadata": {},
   "outputs": [
    {
     "data": {
      "text/plain": [
       "RandomForestClassifier()"
      ]
     },
     "execution_count": 40,
     "metadata": {},
     "output_type": "execute_result"
    }
   ],
   "source": [
    "# Fitting the random forest model with the training data\n",
    "rand.fit(X_train,y_train)"
   ]
  },
  {
   "cell_type": "code",
   "execution_count": 41,
   "metadata": {},
   "outputs": [],
   "source": [
    "# Predicting the critical violation using the test data\n",
    "# Storing the predicted critical violation values in the y_pred \n",
    "\n",
    "y_pred = rand.predict(X_test)"
   ]
  },
  {
   "cell_type": "code",
   "execution_count": 42,
   "metadata": {},
   "outputs": [
    {
     "name": "stdout",
     "output_type": "stream",
     "text": [
      "Confusion Matrix\n",
      "==========================\n",
      "[[ 282   10]\n",
      " [  14 1640]]\n",
      "Classification report\n",
      "==========================\n",
      "              precision    recall  f1-score   support\n",
      "\n",
      "           0       0.95      0.97      0.96       292\n",
      "           1       0.99      0.99      0.99      1654\n",
      "\n",
      "    accuracy                           0.99      1946\n",
      "   macro avg       0.97      0.98      0.98      1946\n",
      "weighted avg       0.99      0.99      0.99      1946\n",
      "\n",
      "Accuracy Score\n",
      "==========================\n",
      "98.77\n"
     ]
    }
   ],
   "source": [
    "# Evaluation metrics to check the performance the random forest model\n",
    "\n",
    "print(\"Confusion Matrix\")\n",
    "print(\"==========================\")\n",
    "print(confusion_matrix(y_test,y_pred))\n",
    "\n",
    "print(\"Classification report\")\n",
    "print(\"==========================\")\n",
    "print(classification_report(y_test,y_pred))\n",
    "\n",
    "print(\"Accuracy Score\")\n",
    "print(\"==========================\")\n",
    "print(round(accuracy_score(y_test,y_pred)*100,2))\n"
   ]
  },
  {
   "cell_type": "markdown",
   "metadata": {},
   "source": [
    "# KNN Classifier"
   ]
  },
  {
   "cell_type": "code",
   "execution_count": 43,
   "metadata": {},
   "outputs": [],
   "source": [
    "from sklearn.neighbors import KNeighborsClassifier"
   ]
  },
  {
   "cell_type": "code",
   "execution_count": 44,
   "metadata": {},
   "outputs": [],
   "source": [
    "knn = KNeighborsClassifier()"
   ]
  },
  {
   "cell_type": "code",
   "execution_count": 45,
   "metadata": {},
   "outputs": [
    {
     "data": {
      "text/plain": [
       "KNeighborsClassifier()"
      ]
     },
     "execution_count": 45,
     "metadata": {},
     "output_type": "execute_result"
    }
   ],
   "source": [
    "knn.fit(X_train,y_train)"
   ]
  },
  {
   "cell_type": "code",
   "execution_count": 46,
   "metadata": {},
   "outputs": [],
   "source": [
    "y_pred_knn = knn.predict(X_test)"
   ]
  },
  {
   "cell_type": "code",
   "execution_count": 47,
   "metadata": {},
   "outputs": [
    {
     "name": "stdout",
     "output_type": "stream",
     "text": [
      "Confusion Matrix\n",
      "==========================\n",
      "[[ 277   15]\n",
      " [  11 1643]]\n",
      "Classification report\n",
      "==========================\n",
      "              precision    recall  f1-score   support\n",
      "\n",
      "           0       0.96      0.95      0.96       292\n",
      "           1       0.99      0.99      0.99      1654\n",
      "\n",
      "    accuracy                           0.99      1946\n",
      "   macro avg       0.98      0.97      0.97      1946\n",
      "weighted avg       0.99      0.99      0.99      1946\n",
      "\n",
      "Accuracy Score\n",
      "==========================\n",
      "98.66\n"
     ]
    }
   ],
   "source": [
    "# Evaluation metrics to check the performance the random forest model\n",
    "\n",
    "print(\"Confusion Matrix\")\n",
    "print(\"==========================\")\n",
    "print(confusion_matrix(y_test,y_pred_knn))\n",
    "\n",
    "print(\"Classification report\")\n",
    "print(\"==========================\")\n",
    "print(classification_report(y_test,y_pred_knn))\n",
    "\n",
    "print(\"Accuracy Score\")\n",
    "print(\"==========================\")\n",
    "print(round(accuracy_score(y_test,y_pred_knn)*100,2))"
   ]
  },
  {
   "cell_type": "markdown",
   "metadata": {},
   "source": [
    "# Decision Tree"
   ]
  },
  {
   "cell_type": "code",
   "execution_count": 48,
   "metadata": {},
   "outputs": [],
   "source": [
    "from sklearn.tree import DecisionTreeClassifier"
   ]
  },
  {
   "cell_type": "code",
   "execution_count": 49,
   "metadata": {},
   "outputs": [],
   "source": [
    "dec = DecisionTreeClassifier()"
   ]
  },
  {
   "cell_type": "code",
   "execution_count": 50,
   "metadata": {},
   "outputs": [
    {
     "data": {
      "text/plain": [
       "DecisionTreeClassifier()"
      ]
     },
     "execution_count": 50,
     "metadata": {},
     "output_type": "execute_result"
    }
   ],
   "source": [
    "dec.fit(X_train,y_train)"
   ]
  },
  {
   "cell_type": "code",
   "execution_count": 51,
   "metadata": {},
   "outputs": [],
   "source": [
    "y_pred_dec = dec.predict(X_test)"
   ]
  },
  {
   "cell_type": "code",
   "execution_count": 52,
   "metadata": {},
   "outputs": [
    {
     "name": "stdout",
     "output_type": "stream",
     "text": [
      "Confusion Matrix\n",
      "==========================\n",
      "[[ 282   10]\n",
      " [  14 1640]]\n",
      "Classification report\n",
      "==========================\n",
      "              precision    recall  f1-score   support\n",
      "\n",
      "           0       0.95      0.97      0.96       292\n",
      "           1       0.99      0.99      0.99      1654\n",
      "\n",
      "    accuracy                           0.99      1946\n",
      "   macro avg       0.97      0.98      0.98      1946\n",
      "weighted avg       0.99      0.99      0.99      1946\n",
      "\n",
      "Accuracy Score\n",
      "==========================\n",
      "98.77\n"
     ]
    }
   ],
   "source": [
    "# Evaluation metrics to check the performance the random forest model\n",
    "\n",
    "print(\"Confusion Matrix\")\n",
    "print(\"==========================\")\n",
    "print(confusion_matrix(y_test,y_pred_dec))\n",
    "\n",
    "print(\"Classification report\")\n",
    "print(\"==========================\")\n",
    "print(classification_report(y_test,y_pred_dec))\n",
    "\n",
    "print(\"Accuracy Score\")\n",
    "print(\"==========================\")\n",
    "print(round(accuracy_score(y_test,y_pred_dec)*100,2))"
   ]
  },
  {
   "cell_type": "markdown",
   "metadata": {},
   "source": [
    "# Logistic Classifier"
   ]
  },
  {
   "cell_type": "code",
   "execution_count": 53,
   "metadata": {},
   "outputs": [],
   "source": [
    "from sklearn.linear_model import LogisticRegression \n",
    "from sklearn import metrics"
   ]
  },
  {
   "cell_type": "code",
   "execution_count": 54,
   "metadata": {},
   "outputs": [],
   "source": [
    "lg= LogisticRegression()"
   ]
  },
  {
   "cell_type": "code",
   "execution_count": 55,
   "metadata": {},
   "outputs": [
    {
     "data": {
      "text/plain": [
       "LogisticRegression()"
      ]
     },
     "execution_count": 55,
     "metadata": {},
     "output_type": "execute_result"
    }
   ],
   "source": [
    "lg.fit(X_train,y_train)"
   ]
  },
  {
   "cell_type": "code",
   "execution_count": 56,
   "metadata": {},
   "outputs": [],
   "source": [
    "y_pred_lg = lg.predict(X_test)"
   ]
  },
  {
   "cell_type": "code",
   "execution_count": 57,
   "metadata": {},
   "outputs": [
    {
     "name": "stdout",
     "output_type": "stream",
     "text": [
      "Confusion Matrix\n",
      "==========================\n",
      "[[ 234   58]\n",
      " [  65 1589]]\n",
      "Classification report\n",
      "==========================\n",
      "              precision    recall  f1-score   support\n",
      "\n",
      "           0       0.78      0.80      0.79       292\n",
      "           1       0.96      0.96      0.96      1654\n",
      "\n",
      "    accuracy                           0.94      1946\n",
      "   macro avg       0.87      0.88      0.88      1946\n",
      "weighted avg       0.94      0.94      0.94      1946\n",
      "\n",
      "Accuracy Score\n",
      "==========================\n",
      "93.68\n"
     ]
    }
   ],
   "source": [
    "# Evaluation metrics to check the performance the Logistics classifier model\n",
    "\n",
    "print(\"Confusion Matrix\")\n",
    "print(\"==========================\")\n",
    "print(confusion_matrix(y_test,y_pred_lg))\n",
    "\n",
    "print(\"Classification report\")\n",
    "print(\"==========================\")\n",
    "print(classification_report(y_test,y_pred_lg))\n",
    "\n",
    "print(\"Accuracy Score\")\n",
    "print(\"==========================\")\n",
    "print(round(accuracy_score(y_test,y_pred_lg)*100,2))"
   ]
  }
 ],
 "metadata": {
  "kernelspec": {
   "display_name": "Python 3",
   "language": "python",
   "name": "python3"
  },
  "language_info": {
   "codemirror_mode": {
    "name": "ipython",
    "version": 3
   },
   "file_extension": ".py",
   "mimetype": "text/x-python",
   "name": "python",
   "nbconvert_exporter": "python",
   "pygments_lexer": "ipython3",
   "version": "3.8.5"
  }
 },
 "nbformat": 4,
 "nbformat_minor": 4
}
